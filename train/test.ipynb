{
 "cells": [
  {
   "cell_type": "code",
   "execution_count": null,
   "metadata": {
    "collapsed": true
   },
   "outputs": [],
   "source": [
    "import numpy as np\n",
    "import pandas as pd\n",
    "import efficientnet.keras as efn\n",
    "from keras.models import load_model\n",
    "from sklearn.metrics import  accuracy_score, confusion_matrix"
   ]
  },
  {
   "cell_type": "code",
   "execution_count": null,
   "outputs": [],
   "source": [
    "model = load_model('models/12_effnet_b4_model.hdf5')"
   ],
   "metadata": {
    "collapsed": false,
    "pycharm": {
     "name": "#%%\n"
    }
   }
  },
  {
   "cell_type": "code",
   "execution_count": null,
   "outputs": [],
   "source": [
    "# from data.dataset import loadDatabase\n",
    "# train_generator, validation_generator, test_generator2 = loadDatabase(False)"
   ],
   "metadata": {
    "collapsed": false,
    "pycharm": {
     "name": "#%%\n"
    }
   }
  },
  {
   "cell_type": "code",
   "execution_count": null,
   "outputs": [],
   "source": [
    "from data.dataset import loadTESTDatabase\n",
    "test_generator = loadTESTDatabase()"
   ],
   "metadata": {
    "collapsed": false,
    "pycharm": {
     "name": "#%%\n"
    }
   }
  },
  {
   "cell_type": "code",
   "execution_count": null,
   "outputs": [],
   "source": [
    "test_generator.reset()\n",
    "\n",
    "pred = model.predict_generator(test_generator, steps=len(test_generator), verbose=1)\n",
    "predicted_class_indices = np.argmax(pred, axis=1)\n",
    "\n",
    "pred.shape"
   ],
   "metadata": {
    "collapsed": false,
    "pycharm": {
     "name": "#%%\n"
    }
   }
  },
  {
   "cell_type": "code",
   "execution_count": null,
   "outputs": [],
   "source": [
    "with open('2_full_test.npy', 'wb') as f:\n",
    "    np.save(f, pred)\n",
    "with open('2_full_test.npy', 'rb') as f:\n",
    "    a = np.load(f)\n",
    "# print(a)"
   ],
   "metadata": {
    "collapsed": false,
    "pycharm": {
     "name": "#%%\n"
    }
   }
  },
  {
   "cell_type": "code",
   "execution_count": null,
   "outputs": [],
   "source": [
    "# label_map = (test_generator4.class_indices)\n",
    "# label_map = dict((v,k) for k,v in label_map.items())\n",
    "# predictions = [label_map[k] for k in predicted_class_indices]\n",
    "# predictions.shape"
   ],
   "metadata": {
    "collapsed": false,
    "pycharm": {
     "name": "#%%\n"
    }
   }
  },
  {
   "cell_type": "code",
   "execution_count": null,
   "outputs": [],
   "source": [
    "#AAAAAAAAAAAAAAAAAAAAAAAAAAAAAAAAAAAAAAAAAAAAAAAAAAAAAAAAAAAAAAAAAAAAAAAAAAAAAAAA\n",
    "\n",
    "results = pd.DataFrame({\"Filename\": test_generator.filenames,\n",
    "                        \"Predictions\": predicted_class_indices,\n",
    "                        \"TRUE class\": test_generator.classes})\n",
    "\n",
    "results.to_csv(r'2_full_test_result.csv')\n",
    "#"
   ],
   "metadata": {
    "collapsed": false,
    "pycharm": {
     "name": "#%%\n"
    }
   }
  },
  {
   "cell_type": "code",
   "execution_count": null,
   "outputs": [],
   "source": [
    "accuracy_score(test_generator.classes, predicted_class_indices)"
   ],
   "metadata": {
    "collapsed": false,
    "pycharm": {
     "name": "#%%\n"
    }
   }
  },
  {
   "cell_type": "code",
   "execution_count": null,
   "outputs": [],
   "source": [
    "pred > 0.5"
   ],
   "metadata": {
    "collapsed": false,
    "pycharm": {
     "name": "#%%\n"
    }
   }
  },
  {
   "cell_type": "code",
   "execution_count": null,
   "outputs": [],
   "source": [
    "y_true = test_generator.classes\n",
    "y_pred = pred > 0.5\n",
    "\n",
    "confusion_matrix(y_true, y_pred)\n"
   ],
   "metadata": {
    "collapsed": false,
    "pycharm": {
     "name": "#%%\n"
    }
   }
  },
  {
   "cell_type": "code",
   "execution_count": null,
   "outputs": [],
   "source": [
    "model.evaluate_generator(test_generator, len(test_generator), verbose=1)\n",
    "\n"
   ],
   "metadata": {
    "collapsed": false,
    "pycharm": {
     "name": "#%%\n"
    }
   }
  },
  {
   "cell_type": "code",
   "execution_count": null,
   "outputs": [],
   "source": [
    "acc = model.evaluate_generator(test_generator, len(test_generator) // 16, verbose=1)\n",
    "acc\n",
    "print(acc)"
   ],
   "metadata": {
    "collapsed": false,
    "pycharm": {
     "name": "#%%\n"
    }
   }
  },
  {
   "cell_type": "code",
   "execution_count": null,
   "outputs": [],
   "source": [
    "import seaborn as sn\n",
    "import matplotlib.pyplot as plt\n",
    "\n",
    "df = pd.DataFrame(columns=['y_Actual','y_Predicted'])\n",
    "df['y_Actual'] = test_generator.classes\n",
    "df['y_Predicted'] = predicted_class_indices\n",
    "confusion_matrix = pd.crosstab(df['y_Actual'], df['y_Predicted'], rownames=['Actual'], colnames=['Predicted'], margins = True)\n",
    "\n",
    "sn.heatmap(confusion_matrix, annot=True)\n",
    "plt.show()"
   ],
   "metadata": {
    "collapsed": false,
    "pycharm": {
     "name": "#%%\n"
    }
   }
  },
  {
   "cell_type": "code",
   "execution_count": null,
   "outputs": [],
   "source": [
    "from pandas_ml import ConfusionMatrix\n",
    "\n",
    "Confusion_Matrix = ConfusionMatrix(df['y_Actual'], df['y_Predicted'])\n",
    "Confusion_Matrix.print_stats()\n",
    "\n"
   ],
   "metadata": {
    "collapsed": false,
    "pycharm": {
     "name": "#%%\n"
    }
   }
  },
  {
   "cell_type": "code",
   "execution_count": null,
   "outputs": [],
   "source": [
    "with open('test.npy', 'rb') as f:\n",
    "    a = np.load(f)\n",
    "print(a)"
   ],
   "metadata": {
    "collapsed": false,
    "pycharm": {
     "name": "#%%\n"
    }
   }
  },
  {
   "cell_type": "code",
   "execution_count": null,
   "outputs": [],
   "source": [
    "# results.to_csv(r'2_full_test_result.csv')\n",
    "\n",
    "# with open('testtesttesttest1111.csv', 'wb') as f:\n",
    "#     np.save(f, results)\n",
    "# with open('testtesttesttest1111.csv', 'rb') as f:\n",
    "#     a = np.load(f)\n",
    "# print(a)\n"
   ],
   "metadata": {
    "collapsed": false,
    "pycharm": {
     "name": "#%%\n"
    }
   }
  },
  {
   "cell_type": "code",
   "execution_count": null,
   "outputs": [],
   "source": [
    "import atexit\n",
    "import signal\n",
    "from functools import partial\n",
    "\n",
    "def done_function(fileName, toSave):\n",
    "    with open(fileName, 'wb') as f:\n",
    "        np.save(f, toSave)\n",
    "    with open(fileName, 'rb') as f:\n",
    "        a = np.load(f)\n",
    "    print(a)\n",
    "    print('WWWWWWWWWWWWW')\n",
    "\n",
    "pred222 = np.array([])\n",
    "atexit.register(done_function, fileName='testtesttesttest22.npy', toSave=pred222)\n",
    "\n",
    "for sig in signal.valid_signals():\n",
    "    print(f'{sig.value}: signal.{sig.name},')\n",
    "    signal.signal(sig, partial(done_function, fileName='testtesttesttest22.npy', toSave=pred222))\n",
    "\n",
    "# signal.signal(signal.SIGTERM, partial(done_function, fileName='testtesttesttest22.npy', toSave=pred222))\n",
    "# signal.signal(signal.SIGINT, partial(done_function, fileName='testtesttesttest22.npy', toSave=pred222))\n",
    "\n",
    "pred222 = model.predict_generator(test_generator, steps=len(test_generator), verbose=1)"
   ],
   "metadata": {
    "collapsed": false,
    "pycharm": {
     "name": "#%%\n",
     "is_executing": true
    }
   }
  },
  {
   "cell_type": "code",
   "execution_count": 3,
   "outputs": [],
   "source": [
    "from data.const import BATCH_SIZE, SAVE_PERIOD, MODEL_PATH, LOG_PATH, PLOT_PATH, CLASSES, HIST_PLOT_PATH, SYS_PATH, \\\n",
    "    MODEL_NAME, ITERATION\n",
    "import numpy as np\n",
    "import pandas as pd\n",
    "import efficientnet.keras as efn\n",
    "from keras.models import load_model\n",
    "from sklearn.metrics import  accuracy_score, confusion_matrix\n",
    "\n",
    "new_labels = pd.read_csv(r'../misc/train.csv', dtype=str, index_col=[0])\n",
    "\n",
    "with open('results/labeling/' + ITERATION + '_' + MODEL_NAME + '_teacher_unlabeled_result.npy', 'rb') as f:\n",
    "    new_labels_pred = np.load(f)\n"
   ],
   "metadata": {
    "collapsed": false,
    "pycharm": {
     "name": "#%%\n"
    }
   }
  }
 ],
 "metadata": {
  "kernelspec": {
   "display_name": "Python 3",
   "language": "python",
   "name": "python3"
  },
  "language_info": {
   "codemirror_mode": {
    "name": "ipython",
    "version": 2
   },
   "file_extension": ".py",
   "mimetype": "text/x-python",
   "name": "python",
   "nbconvert_exporter": "python",
   "pygments_lexer": "ipython2",
   "version": "2.7.6"
  }
 },
 "nbformat": 4,
 "nbformat_minor": 0
}