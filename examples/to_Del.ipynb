{
 "cells": [
  {
   "cell_type": "code",
   "execution_count": 3,
   "metadata": {},
   "outputs": [],
   "source": [
    "# from __future__ import print_function\n",
    "# import torch\n",
    "# import torch.nn as nn\n",
    "# import torch.nn.functional as F\n",
    "# from torchvision import datasets, transforms\n",
    "\n",
    "from torchvision import transforms\n",
    "from sklearn.model_selection import train_test_split\n",
    "from torch.utils.data import Dataset, DataLoader\n",
    "#\n",
    "# from skimage.io import imread\n",
    "# from io import open\n",
    "# import glob\n",
    "import os\n",
    "#\n",
    "import pandas as pd\n",
    "#\n",
    "# from os import listdir\n",
    "from PIL import Image as PImage\n",
    "#\n",
    "# import matplotlib.pyplot as plt\n",
    "# import matplotlib.image as img\n",
    "#\n",
    "# import importlib\n",
    "#\n",
    "# # from sam.sam import *\n",
    "# import time"
   ]
  },
  {
   "cell_type": "code",
   "execution_count": 20,
   "metadata": {},
   "outputs": [],
   "source": []
  },
  {
   "cell_type": "code",
   "execution_count": 45,
   "metadata": {},
   "outputs": [
    {
     "data": {
      "text/plain": [
       "12"
      ]
     },
     "execution_count": 45,
     "metadata": {},
     "output_type": "execute_result"
    }
   ],
   "source": []
  },
  {
   "cell_type": "code",
   "execution_count": 51,
   "metadata": {},
   "outputs": [
    {
     "name": "stdout",
     "output_type": "stream",
     "text": [
      "0.13.0\n"
     ]
    }
   ],
   "source": []
  },
  {
   "cell_type": "code",
   "execution_count": 55,
   "metadata": {},
   "outputs": [],
   "source": []
  },
  {
   "cell_type": "code",
   "execution_count": 56,
   "metadata": {
    "collapsed": true
   },
   "outputs": [],
   "source": []
  },
  {
   "cell_type": "code",
   "execution_count": null,
   "metadata": {
    "collapsed": true
   },
   "outputs": [],
   "source": []
  },
  {
   "cell_type": "code",
   "execution_count": null,
   "metadata": {
    "collapsed": true
   },
   "outputs": [],
   "source": []
  },
  {
   "cell_type": "code",
   "execution_count": null,
   "metadata": {
    "collapsed": true
   },
   "outputs": [],
   "source": []
  },
  {
   "cell_type": "code",
   "execution_count": null,
   "metadata": {
    "collapsed": true
   },
   "outputs": [],
   "source": []
  },
  {
   "cell_type": "code",
   "execution_count": null,
   "metadata": {
    "collapsed": true
   },
   "outputs": [],
   "source": []
  },
  {
   "cell_type": "code",
   "execution_count": null,
   "metadata": {
    "collapsed": true
   },
   "outputs": [],
   "source": []
  },
  {
   "cell_type": "code",
   "execution_count": null,
   "metadata": {
    "collapsed": true
   },
   "outputs": [],
   "source": [
    "class ResNetBasicBlock(nn.Module):\n",
    "    def __init__(self, in_ch, out_ch, kernel_size, stride, padding):\n",
    "        super(ResNetBasicBlock, self).__init__()\n",
    "        self.conv1 = nn.Conv2d(in_ch, out_ch, kernel_size, stride, padding)\n",
    "        self.bn = nn.BatchNorm2d(out_ch)\n",
    "        self.conv2 = nn.Conv2d(out_ch, out_ch, kernel_size, 1, padding)\n",
    "\n",
    "        for m in self.modules():\n",
    "            if isinstance(m, nn.Conv2d):\n",
    "                nn.init.kaiming_normal_(m.weight, mode='fan_out', nonlinearity='relu')\n",
    "\n",
    "    def forward(self, x):\n",
    "        x = F.relu(self.bn(self.conv1(x)))\n",
    "        x = self.conv2(x)\n",
    "        return x\n",
    "\n",
    "class ResNetBlock(nn.Module):\n",
    "    def __init__(self, in_ch, out_ch):\n",
    "        super(ResNetBlock, self).__init__()\n",
    "        self.in_ch = in_ch\n",
    "        self.out_ch = out_ch   \n",
    "        self.proj = nn.Conv2d(in_ch, out_ch, 1, 2)\n",
    "        self.bn_proj = nn.BatchNorm2d(out_ch)\n",
    "        \n",
    "        if (in_ch == out_ch):\n",
    "            self.block1 = ResNetBasicBlock(in_ch, out_ch, 3, 1, 1)\n",
    "        else:\n",
    "            self.block1 = ResNetBasicBlock(in_ch, out_ch, 3, 2, 1)\n",
    "        self.bn1 = nn.BatchNorm2d(out_ch)\n",
    "        self.block2 = ResNetBasicBlock(out_ch, out_ch, 3, 1, 1)\n",
    "        self.bn2 = nn.BatchNorm2d(out_ch)\n",
    "        self.block3 = ResNetBasicBlock(out_ch, out_ch, 3, 1, 1)\n",
    "        self.bn3 = nn.BatchNorm2d(out_ch)\n",
    "\n",
    "    def forward(self, x):\n",
    "\n",
    "        if (self.in_ch == self.out_ch):\n",
    "            shortcut1 = x.clone()\n",
    "        else:\n",
    "            shortcut1 = self.proj(x)\n",
    "        x = self.block1(x)\n",
    "        x += shortcut1\n",
    "        x = self.bn1(x)\n",
    "        x = F.relu(x)\n",
    "\n",
    "        shortcut2 = x.clone()\n",
    "        x = self.block2(x)\n",
    "        x += shortcut2\n",
    "        x = self.bn2(x)\n",
    "        x = F.relu(x)\n",
    "\n",
    "        shortcut3 = x.clone()\n",
    "        x = self.block3(x)\n",
    "        x += shortcut3\n",
    "        x = self.bn3(x)\n",
    "\n",
    "        return x\n",
    "\n",
    "class ResNet(nn.Module):\n",
    "    def __init__(self):\n",
    "        super(ResNet, self).__init__()\n",
    "        self.conv1 = nn.Conv2d(3, 16, 3, 1, 1)\n",
    "        self.bn0 = nn.BatchNorm2d(16)\n",
    "        self.resBlock1 = ResNetBlock(16, 16)\n",
    "        self.resBlock2 = ResNetBlock(16, 32)\n",
    "        self.resBlock3 = ResNetBlock(32, 64)\n",
    "        self.avgPool = nn.AvgPool2d(8)\n",
    "        self.fc = nn.Linear(64, 10)\n",
    "\n",
    "    def forward(self, x):\n",
    "        x = F.relu(self.bn0(self.conv1(x)))\n",
    "\n",
    "        x = F.relu(self.resBlock1(x))\n",
    "        x = F.relu(self.resBlock2(x))\n",
    "        x = F.relu(self.resBlock3(x))\n",
    "\n",
    "        x = self.avgPool(x)\n",
    "        x = x.view(-1, 64)\n",
    "        x = self.fc(x)\n",
    "\n",
    "        return x"
   ]
  },
  {
   "cell_type": "code",
   "execution_count": null,
   "metadata": {
    "collapsed": true
   },
   "outputs": [],
   "source": [
    "def train(model, device, train_loader, optimizer, cross_entropy, epoch, isSam):\n",
    "    model.train()\n",
    "    train_loss = 0\n",
    "    for batch_idx, (data, target) in enumerate(train_loader):\n",
    "        data, target = data.to(device), target.to(device)\n",
    "        optimizer.zero_grad()\n",
    "        output = model(data)\n",
    "#         loss = F.nll_loss(output, target)\n",
    "        loss = cross_entropy(output, target)\n",
    "        loss.backward()\n",
    "        \n",
    "        optimizer.step()\n",
    "        \n",
    "#         if isSam:\n",
    "#             optimizer.first_step(zero_grad=True)\n",
    "#             cross_entropy(model(data), target).mean().backward()\n",
    "#             optimizer.second_step(zero_grad=True)\n",
    "#         else:\n",
    "#             optimizer.step()\n",
    "        \n",
    "        train_loss += loss.item() * data.size(0)\n",
    "        \n",
    "        if batch_idx % 20 == 0:\n",
    "            print('Train Epoch: {} [{}/{} ({:.0f}%)]\\tLoss: {:.6f}'.format(\n",
    "                epoch, batch_idx * len(data), len(train_loader.dataset),\n",
    "                100. * batch_idx / len(train_loader), loss.item()))\n",
    "    return loss.item()\n",
    "       \n",
    "def validate(model, device, validation_loader, cross_entropy):\n",
    "    model.eval()\n",
    "    valid_loss = 0\n",
    "    correct = 0\n",
    "    with torch.no_grad():\n",
    "        for data, target in validation_loader:\n",
    "            data, target = data.to(device), target.to(device)\n",
    "            output = model(data)\n",
    "#             valid_loss += F.nll_loss(output, target, reduction='sum').item() # sum up batch loss\n",
    "            valid_loss += cross_entropy(output, target).item() * data.size(0)\n",
    "            pred = output.argmax(dim=1, keepdim=True) # get the index of the max log-probability\n",
    "            correct += pred.eq(target.view_as(pred)).sum().item()\n",
    "    valid_loss /= len(validation_loader.dataset)\n",
    "    \n",
    "    print('\\nValidation set: Average loss: {:.4f}, Accuracy: {}/{} ({:.0f}%)\\n'.format(\n",
    "        valid_loss, correct, len(validation_loader.dataset),\n",
    "        100. * correct / len(validation_loader.dataset)))\n",
    "    return valid_loss\n",
    "\n",
    "def test(model, device, test_loader):\n",
    "    model.eval()\n",
    "    correct = 0\n",
    "    total = 0\n",
    "    with torch.no_grad():\n",
    "        for images, labels in test_loader:\n",
    "            images = images.to(device)\n",
    "            labels = labels.to(device)\n",
    "            outputs = model(images)\n",
    "            _, predicted = torch.max(outputs.data, 1)\n",
    "            total += labels.size(0)\n",
    "            correct += (predicted == labels).sum().item()\n",
    "\n",
    "        print('Test set: Accuracy: {}/{} ({:.0f}%)'.format(\n",
    "            correct, total, 100. * correct / total))"
   ]
  },
  {
   "cell_type": "code",
   "execution_count": null,
   "metadata": {
    "collapsed": true
   },
   "outputs": [],
   "source": [
    "use_cuda = torch.cuda.is_available()\n",
    "device = torch.device(\"cuda\" if use_cuda else \"cpu\")\n",
    "\n",
    "train_loader, validation_loader, test_loader = loadDatabase(isData1=True)\n",
    "\n",
    "model = ResNet().to(device)\n",
    "\n",
    "cross_entropy = nn.CrossEntropyLoss()\n",
    "\n",
    "adam_optimizer = torch.optim.Adam(model.parameters(), lr=0.001, weight_decay = 0.0001)\n",
    "# sam_optimizer = SAM(model.parameters(), torch.optim.SGD, lr=0.001, momentum=0.9)\n",
    "# adadelta_optimizer = torch.optim.Adadelta(model.parameters(), lr=0.001)\n",
    "# sgd_optimizer = torch.optim.SGD(model.parameters(), lr=0.001, momentum=0.9, weight_decay=5e-4)\n",
    "\n",
    "counter, train_losses, valid_losses = [], [], []\n",
    "\n",
    "for epoch in range(1, 50 + 1):\n",
    "\n",
    "    train_losses.append( train(model, device, train_loader, adam_optimizer, cross_entropy, epoch, False) )\n",
    "    valid_losses.append( validate(model, device, validation_loader, cross_entropy) )\n",
    "    counter.append(epoch)\n",
    "\n",
    "plt.figure(figsize=(9, 6))\n",
    "plt.ylabel(\"Loss\")\n",
    "plt.xlabel(\"Number of Epochs\")\n",
    "plt.plot(counter, train_losses, \"r\", label = \"Train loss\")\n",
    "plt.plot(counter, valid_losses, \"b\", label = \"Validation loss\")\n",
    "plt.title(\"Loss\")\n",
    "plt.show()\n",
    "\n",
    "torch.save(model.state_dict(), 'model1.ckpt') \n",
    "\n",
    "test(model, device, test_loader)"
   ]
  }
 ],
 "metadata": {
  "kernelspec": {
   "display_name": "Python 3",
   "language": "python",
   "name": "python3"
  },
  "language_info": {
   "codemirror_mode": {
    "name": "ipython",
    "version": 3
   },
   "file_extension": ".py",
   "mimetype": "text/x-python",
   "name": "python",
   "nbconvert_exporter": "python",
   "pygments_lexer": "ipython3",
   "version": "3.6.3"
  }
 },
 "nbformat": 4,
 "nbformat_minor": 2
}